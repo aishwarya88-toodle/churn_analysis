{
 "cells": [
  {
   "cell_type": "code",
   "execution_count": 1,
   "id": "a2c55134-2896-413b-9eb8-bffc2710c792",
   "metadata": {},
   "outputs": [
    {
     "name": "stdout",
     "output_type": "stream",
     "text": [
      "<class 'pandas.core.frame.DataFrame'>\n",
      "RangeIndex: 7032 entries, 0 to 7031\n",
      "Data columns (total 28 columns):\n",
      " #   Column                                 Non-Null Count  Dtype  \n",
      "---  ------                                 --------------  -----  \n",
      " 0   gender                                 7032 non-null   int64  \n",
      " 1   SeniorCitizen                          7032 non-null   int64  \n",
      " 2   Partner                                7032 non-null   int64  \n",
      " 3   Dependents                             7032 non-null   int64  \n",
      " 4   tenure                                 7032 non-null   int64  \n",
      " 5   PhoneService                           7032 non-null   int64  \n",
      " 6   MultipleLines                          7032 non-null   int64  \n",
      " 7   OnlineSecurity                         7032 non-null   int64  \n",
      " 8   OnlineBackup                           7032 non-null   int64  \n",
      " 9   DeviceProtection                       7032 non-null   int64  \n",
      " 10  TechSupport                            7032 non-null   int64  \n",
      " 11  StreamingTV                            7032 non-null   int64  \n",
      " 12  StreamingMovies                        7032 non-null   int64  \n",
      " 13  PaperlessBilling                       7032 non-null   int64  \n",
      " 14  MonthlyCharges                         7032 non-null   float64\n",
      " 15  TotalCharges                           7032 non-null   float64\n",
      " 16  Churn                                  7032 non-null   int64  \n",
      " 17  last_login_days_ago                    7032 non-null   int64  \n",
      " 18  support_tickets_last_30_days           7032 non-null   int64  \n",
      " 19  plan_change_recently                   7032 non-null   object \n",
      " 20  plan_change_recently.1                 7032 non-null   object \n",
      " 21  InternetService_Fiber optic            7032 non-null   bool   \n",
      " 22  InternetService_No                     7032 non-null   bool   \n",
      " 23  Contract_One year                      7032 non-null   bool   \n",
      " 24  Contract_Two year                      7032 non-null   bool   \n",
      " 25  PaymentMethod_Credit card (automatic)  7032 non-null   bool   \n",
      " 26  PaymentMethod_Electronic check         7032 non-null   bool   \n",
      " 27  PaymentMethod_Mailed check             7032 non-null   bool   \n",
      "dtypes: bool(7), float64(2), int64(17), object(2)\n",
      "memory usage: 1.2+ MB\n",
      "None\n"
     ]
    }
   ],
   "source": [
    "import pandas as pd\n",
    "\n",
    "# Load Data\n",
    "df = pd.read_csv(r\"C:\\Users\\HP\\Desktop\\churn_analysis\\churn_analysis.csv\")  \n",
    "\n",
    "# Drop unnecessary columns\n",
    "df.drop(['customerID', 'IsSenior'], axis=1, inplace=True)\n",
    "\n",
    "# Convert 'TotalCharges' to numeric (handle errors)\n",
    "df['TotalCharges'] = pd.to_numeric(df['TotalCharges'], errors='coerce')\n",
    "df.dropna(subset=['TotalCharges'], inplace=True)\n",
    "\n",
    "# Clean 'No internet service' and 'No phone service' → 'No'\n",
    "cols_to_clean = ['MultipleLines', 'OnlineSecurity', 'OnlineBackup',\n",
    "                 'DeviceProtection', 'TechSupport', 'StreamingTV', 'StreamingMovies']\n",
    "\n",
    "for col in cols_to_clean:\n",
    "    if col in df.columns:  # ✅ Prevent KeyError\n",
    "        df[col] = df[col].replace({'No internet service': 'No', 'No phone service': 'No'})\n",
    "\n",
    "# Binary columns mapping\n",
    "binary_cols = ['gender', 'Partner', 'Dependents', 'PhoneService', 'MultipleLines',\n",
    "               'OnlineSecurity', 'OnlineBackup', 'DeviceProtection',\n",
    "               'TechSupport', 'StreamingTV', 'StreamingMovies',\n",
    "               'PaperlessBilling', 'Churn']\n",
    "\n",
    "for col in binary_cols:\n",
    "    if col in df.columns:  # ✅ Prevent KeyError\n",
    "        df[col] = df[col].map({'Yes': 1, 'No': 0, 'Male': 0, 'Female': 1})\n",
    "\n",
    "# One-hot encoding for multiclass categories\n",
    "onehot_cols = ['InternetService', 'Contract', 'PaymentMethod']\n",
    "\n",
    "df = pd.get_dummies(df, columns=onehot_cols, drop_first=True)\n",
    "\n",
    "# Final check\n",
    "print(df.info())\n"
   ]
  },
  {
   "cell_type": "code",
   "execution_count": 2,
   "id": "10043ad5-d05a-44a5-b4f6-d71bd2ace903",
   "metadata": {},
   "outputs": [
    {
     "name": "stdout",
     "output_type": "stream",
     "text": [
      "✅ Feature-engineered data saved.\n"
     ]
    }
   ],
   "source": [
    "df.to_csv('final_encoded_data.csv', index=False)\n",
    "print(\"✅ Feature-engineered data saved.\")"
   ]
  },
  {
   "cell_type": "code",
   "execution_count": 3,
   "id": "8d7ed952-4a41-434a-a835-7eb7986d74f1",
   "metadata": {},
   "outputs": [
    {
     "name": "stdout",
     "output_type": "stream",
     "text": [
      "int64      17\n",
      "bool        7\n",
      "float64     2\n",
      "object      2\n",
      "Name: count, dtype: int64\n"
     ]
    }
   ],
   "source": [
    "print(df.dtypes.value_counts())"
   ]
  },
  {
   "cell_type": "code",
   "execution_count": 4,
   "id": "ed7c2a6c-4fbb-4cf3-967a-bbd8f81136de",
   "metadata": {},
   "outputs": [
    {
     "name": "stdout",
     "output_type": "stream",
     "text": [
      "Index(['plan_change_recently', 'plan_change_recently.1'], dtype='object')\n"
     ]
    }
   ],
   "source": [
    "# Identify object-type columns\n",
    "print(df.select_dtypes(include='object').columns)\n"
   ]
  },
  {
   "cell_type": "code",
   "execution_count": 5,
   "id": "6195000d-5741-4772-8da0-127ad34b5486",
   "metadata": {},
   "outputs": [
    {
     "name": "stdout",
     "output_type": "stream",
     "text": [
      "False\n"
     ]
    }
   ],
   "source": [
    "print((df['plan_change_recently'] == df['plan_change_recently.1']).all())\n"
   ]
  },
  {
   "cell_type": "code",
   "execution_count": 6,
   "id": "b6a34d49-8fd5-457f-aa86-60ad09434e85",
   "metadata": {},
   "outputs": [],
   "source": [
    "# Convert Yes/No to 1/0 for both columns\n",
    "df['plan_change_recently'] = df['plan_change_recently'].map({'Yes': 1, 'No': 0})\n",
    "df['plan_change_recently.1'] = df['plan_change_recently.1'].map({'Yes': 1, 'No': 0})\n"
   ]
  },
  {
   "cell_type": "code",
   "execution_count": 7,
   "id": "f317240e-7510-4fa6-8081-9dd25c2e0721",
   "metadata": {},
   "outputs": [
    {
     "name": "stdout",
     "output_type": "stream",
     "text": [
      "   plan_change_recently  plan_change_recently.1\n",
      "0                     1                       1\n",
      "1                     1                       0\n",
      "2                     0                       1\n",
      "3                     1                       0\n",
      "4                     0                       0\n",
      "int64      19\n",
      "bool        7\n",
      "float64     2\n",
      "Name: count, dtype: int64\n"
     ]
    }
   ],
   "source": [
    "print(df[['plan_change_recently', 'plan_change_recently.1']].head())\n",
    "print(df.dtypes.value_counts())\n"
   ]
  },
  {
   "cell_type": "code",
   "execution_count": null,
   "id": "96d37f81-0e6c-4431-9619-577ae38ef213",
   "metadata": {},
   "outputs": [],
   "source": []
  }
 ],
 "metadata": {
  "kernelspec": {
   "display_name": "Python 3 (ipykernel)",
   "language": "python",
   "name": "python3"
  },
  "language_info": {
   "codemirror_mode": {
    "name": "ipython",
    "version": 3
   },
   "file_extension": ".py",
   "mimetype": "text/x-python",
   "name": "python",
   "nbconvert_exporter": "python",
   "pygments_lexer": "ipython3",
   "version": "3.13.1"
  }
 },
 "nbformat": 4,
 "nbformat_minor": 5
}
